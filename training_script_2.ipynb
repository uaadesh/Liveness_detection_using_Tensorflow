{
 "cells": [
  {
   "cell_type": "code",
   "execution_count": 12,
   "id": "7c7c3478",
   "metadata": {},
   "outputs": [],
   "source": [
    "import tensorflow as tf\n",
    "from tensorflow.keras import Sequential\n",
    "from tensorflow.keras.layers import Conv2D, MaxPooling2D, Flatten, Dense"
   ]
  },
  {
   "cell_type": "code",
   "execution_count": 13,
   "id": "70aedf6a",
   "metadata": {},
   "outputs": [],
   "source": [
    "# Get the path to the training data\n",
    "train_data_path = \"D:\\\\Final year project\\\\Training\\\\training_2\\\\data_2\\\\train\"\n",
    "\n",
    "# Get the path to the testing data\n",
    "test_data_path = \"D:\\\\Final year project\\\\Training\\\\training_2\\\\data_2\\\\test\""
   ]
  },
  {
   "cell_type": "code",
   "execution_count": 14,
   "id": "4cdc509b",
   "metadata": {},
   "outputs": [],
   "source": [
    "# Create the training data generator\n",
    "train_data_generator = tf.keras.preprocessing.image.ImageDataGenerator(\n",
    "    rescale=1./255,\n",
    "    rotation_range=40,\n",
    "    width_shift_range=0.2,\n",
    "    height_shift_range=0.2,\n",
    "    horizontal_flip=True,\n",
    "    vertical_flip=True\n",
    ")\n",
    "\n",
    "# Create the testing data generator\n",
    "test_data_generator = tf.keras.preprocessing.image.ImageDataGenerator(\n",
    "    rescale=1./255\n",
    ")"
   ]
  },
  {
   "cell_type": "code",
   "execution_count": 15,
   "id": "ccf2e3a7",
   "metadata": {},
   "outputs": [
    {
     "name": "stdout",
     "output_type": "stream",
     "text": [
      "Found 2000 images belonging to 2 classes.\n",
      "Found 528 images belonging to 2 classes.\n"
     ]
    }
   ],
   "source": [
    "# Create the training dataset\n",
    "train_dataset = train_data_generator.flow_from_directory(\n",
    "    train_data_path,\n",
    "    target_size=(224, 224),\n",
    "    batch_size=8,\n",
    "    class_mode=\"binary\"\n",
    ")\n",
    "\n",
    "# Create the testing dataset\n",
    "test_dataset = test_data_generator.flow_from_directory(\n",
    "    test_data_path,\n",
    "    target_size=(224, 224),\n",
    "    batch_size=8,\n",
    "    class_mode=\"binary\"\n",
    ")"
   ]
  },
  {
   "cell_type": "code",
   "execution_count": 16,
   "id": "90ee6036",
   "metadata": {},
   "outputs": [],
   "source": [
    "# Create the CNN model\n",
    "model = Sequential()\n",
    "\n",
    "model.add(Conv2D(16, (3, 3), padding=\"same\", activation=\"relu\", input_shape=(224, 224, 3)))\n",
    "model.add(MaxPooling2D((2, 2), strides=(2, 2)))\n",
    "\n",
    "model.add(Conv2D(16, (3, 3), padding=\"same\", activation=\"relu\"))\n",
    "model.add(MaxPooling2D((2, 2), strides=(2, 2)))\n",
    "\n",
    "model.add(Conv2D(32, (3, 3), padding=\"same\", activation=\"relu\"))\n",
    "model.add(MaxPooling2D((2, 2), strides=(2, 2)))\n",
    "\n",
    "model.add(Conv2D(32, (3, 3), padding=\"same\", activation=\"relu\"))\n",
    "model.add(MaxPooling2D((2, 2), strides=(2, 2)))\n",
    "\n",
    "model.add(Flatten())\n",
    "\n",
    "model.add(Dense(64, activation=\"relu\"))\n",
    "\n",
    "model.add(Dense(1, activation=\"sigmoid\"))"
   ]
  },
  {
   "cell_type": "code",
   "execution_count": 17,
   "id": "12ed5091",
   "metadata": {},
   "outputs": [],
   "source": [
    "# Compile the model\n",
    "model.compile(loss=\"binary_crossentropy\", optimizer=\"adam\", metrics=[\"accuracy\"])"
   ]
  },
  {
   "cell_type": "code",
   "execution_count": 18,
   "id": "75f626c3",
   "metadata": {},
   "outputs": [
    {
     "name": "stdout",
     "output_type": "stream",
     "text": [
      "Epoch 1/10\n",
      "250/250 [==============================] - 67s 261ms/step - loss: 0.1955 - accuracy: 0.9255\n",
      "Epoch 2/10\n",
      "250/250 [==============================] - 53s 212ms/step - loss: 0.1050 - accuracy: 0.9605\n",
      "Epoch 3/10\n",
      "250/250 [==============================] - 54s 215ms/step - loss: 0.0747 - accuracy: 0.9705\n",
      "Epoch 4/10\n",
      "250/250 [==============================] - 54s 216ms/step - loss: 0.0824 - accuracy: 0.9705\n",
      "Epoch 5/10\n",
      "250/250 [==============================] - 54s 215ms/step - loss: 0.0615 - accuracy: 0.9785\n",
      "Epoch 6/10\n",
      "250/250 [==============================] - 56s 222ms/step - loss: 0.0680 - accuracy: 0.9760\n",
      "Epoch 7/10\n",
      "250/250 [==============================] - 59s 234ms/step - loss: 0.0573 - accuracy: 0.9810\n",
      "Epoch 8/10\n",
      "250/250 [==============================] - 57s 226ms/step - loss: 0.0563 - accuracy: 0.9820\n",
      "Epoch 9/10\n",
      "250/250 [==============================] - 71s 285ms/step - loss: 0.0393 - accuracy: 0.9865\n",
      "Epoch 10/10\n",
      "250/250 [==============================] - 81s 325ms/step - loss: 0.0355 - accuracy: 0.9860\n"
     ]
    },
    {
     "data": {
      "text/plain": [
       "<keras.callbacks.History at 0x12f93f03430>"
      ]
     },
     "execution_count": 18,
     "metadata": {},
     "output_type": "execute_result"
    }
   ],
   "source": [
    "# Train the model\n",
    "model.fit(train_dataset, epochs=10)"
   ]
  },
  {
   "cell_type": "code",
   "execution_count": 19,
   "id": "5ae272ba",
   "metadata": {},
   "outputs": [
    {
     "name": "stdout",
     "output_type": "stream",
     "text": [
      "66/66 [==============================] - 21s 304ms/step - loss: 2.1837 - accuracy: 0.8106\n"
     ]
    },
    {
     "data": {
      "text/plain": [
       "[2.183664560317993, 0.810606062412262]"
      ]
     },
     "execution_count": 19,
     "metadata": {},
     "output_type": "execute_result"
    }
   ],
   "source": [
    "# Evaluate the model\n",
    "model.evaluate(test_dataset)"
   ]
  },
  {
   "cell_type": "code",
   "execution_count": 20,
   "id": "088839ef",
   "metadata": {},
   "outputs": [
    {
     "name": "stderr",
     "output_type": "stream",
     "text": [
      "WARNING:absl:Found untraced functions such as _jit_compiled_convolution_op, _jit_compiled_convolution_op, _jit_compiled_convolution_op, _jit_compiled_convolution_op, _update_step_xla while saving (showing 5 of 5). These functions will not be directly callable after loading.\n"
     ]
    },
    {
     "name": "stdout",
     "output_type": "stream",
     "text": [
      "INFO:tensorflow:Assets written to: .//saved_model_3\\assets\n"
     ]
    },
    {
     "name": "stderr",
     "output_type": "stream",
     "text": [
      "INFO:tensorflow:Assets written to: .//saved_model_3\\assets\n"
     ]
    }
   ],
   "source": [
    "model.save(\".//saved_model_3\")"
   ]
  }
 ],
 "metadata": {
  "kernelspec": {
   "display_name": "tensorflow",
   "language": "python",
   "name": "tensorflow"
  },
  "language_info": {
   "codemirror_mode": {
    "name": "ipython",
    "version": 3
   },
   "file_extension": ".py",
   "mimetype": "text/x-python",
   "name": "python",
   "nbconvert_exporter": "python",
   "pygments_lexer": "ipython3",
   "version": "3.8.8"
  }
 },
 "nbformat": 4,
 "nbformat_minor": 5
}
