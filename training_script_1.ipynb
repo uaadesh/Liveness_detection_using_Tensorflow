{
 "cells": [
  {
   "cell_type": "code",
   "execution_count": 12,
   "id": "250cc5b4",
   "metadata": {},
   "outputs": [],
   "source": [
    "import tensorflow as tf\n",
    "from tensorflow.keras import Sequential\n",
    "from tensorflow.keras.layers import Conv2D, MaxPooling2D, Flatten, Dense"
   ]
  },
  {
   "cell_type": "code",
   "execution_count": 13,
   "id": "3b1ec849",
   "metadata": {},
   "outputs": [],
   "source": [
    "# Get the path to the training data\n",
    "train_data_path = \"D:\\\\Final year project\\\\Training\\\\Data\\\\train\"\n",
    "\n",
    "# Get the path to the testing data\n",
    "test_data_path = \"D:\\\\Final year project\\\\Training\\\\Data\\\\test\""
   ]
  },
  {
   "cell_type": "code",
   "execution_count": 14,
   "id": "e9a95140",
   "metadata": {},
   "outputs": [],
   "source": [
    "# Create the training data generator\n",
    "train_data_generator = tf.keras.preprocessing.image.ImageDataGenerator(\n",
    "    rescale=1./255,\n",
    "    rotation_range=40,\n",
    "    width_shift_range=0.2,\n",
    "    height_shift_range=0.2,\n",
    "    horizontal_flip=True,\n",
    "    vertical_flip=True\n",
    ")\n",
    "\n",
    "# Create the testing data generator\n",
    "test_data_generator = tf.keras.preprocessing.image.ImageDataGenerator(\n",
    "    rescale=1./255\n",
    ")"
   ]
  },
  {
   "cell_type": "code",
   "execution_count": 15,
   "id": "b5de48ad",
   "metadata": {},
   "outputs": [
    {
     "name": "stdout",
     "output_type": "stream",
     "text": [
      "Found 7054 images belonging to 2 classes.\n",
      "Found 500 images belonging to 2 classes.\n"
     ]
    }
   ],
   "source": [
    "# Create the training dataset\n",
    "train_dataset = train_data_generator.flow_from_directory(\n",
    "    train_data_path,\n",
    "    target_size=(224, 224),\n",
    "    batch_size=8,\n",
    "    class_mode=\"binary\"\n",
    ")\n",
    "\n",
    "# Create the testing dataset\n",
    "test_dataset = test_data_generator.flow_from_directory(\n",
    "    test_data_path,\n",
    "    target_size=(224, 224),\n",
    "    batch_size=8,\n",
    "    class_mode=\"binary\"\n",
    ")"
   ]
  },
  {
   "cell_type": "code",
   "execution_count": 22,
   "id": "7baf9bdc",
   "metadata": {},
   "outputs": [],
   "source": [
    "# Create the CNN model\n",
    "model = Sequential()\n",
    "\n",
    "model.add(Conv2D(16, (3, 3), padding=\"same\", activation=\"relu\", input_shape=(224, 224, 3)))\n",
    "model.add(MaxPooling2D((2, 2), strides=(2, 2)))\n",
    "\n",
    "model.add(Conv2D(16, (3, 3), padding=\"same\", activation=\"relu\"))\n",
    "model.add(MaxPooling2D((2, 2), strides=(2, 2)))\n",
    "\n",
    "model.add(Conv2D(32, (3, 3), padding=\"same\", activation=\"relu\"))\n",
    "model.add(MaxPooling2D((2, 2), strides=(2, 2)))\n",
    "\n",
    "model.add(Conv2D(32, (3, 3), padding=\"same\", activation=\"relu\"))\n",
    "model.add(MaxPooling2D((2, 2), strides=(2, 2)))\n",
    "\n",
    "model.add(Flatten())\n",
    "\n",
    "model.add(Dense(64, activation=\"relu\"))\n",
    "\n",
    "model.add(Dense(1, activation=\"sigmoid\"))"
   ]
  },
  {
   "cell_type": "code",
   "execution_count": 23,
   "id": "5c6f69ac",
   "metadata": {},
   "outputs": [],
   "source": [
    "# Compile the model\n",
    "model.compile(loss=\"binary_crossentropy\", optimizer=\"adam\", metrics=[\"accuracy\"])"
   ]
  },
  {
   "cell_type": "code",
   "execution_count": 24,
   "id": "a5425fe8",
   "metadata": {},
   "outputs": [
    {
     "name": "stdout",
     "output_type": "stream",
     "text": [
      "Epoch 1/10\n",
      "221/221 [==============================] - 197s 881ms/step - loss: 0.1337 - accuracy: 0.9470\n",
      "Epoch 2/10\n",
      "221/221 [==============================] - 229s 1s/step - loss: 0.0618 - accuracy: 0.9787\n",
      "Epoch 3/10\n",
      "221/221 [==============================] - 219s 992ms/step - loss: 0.0422 - accuracy: 0.9865\n",
      "Epoch 4/10\n",
      "221/221 [==============================] - 197s 892ms/step - loss: 0.0506 - accuracy: 0.9820\n",
      "Epoch 5/10\n",
      "221/221 [==============================] - 192s 869ms/step - loss: 0.0302 - accuracy: 0.9897\n",
      "Epoch 6/10\n",
      "221/221 [==============================] - 185s 835ms/step - loss: 0.0246 - accuracy: 0.9912\n",
      "Epoch 7/10\n",
      "221/221 [==============================] - 179s 809ms/step - loss: 0.0356 - accuracy: 0.9887\n",
      "Epoch 8/10\n",
      "221/221 [==============================] - 174s 789ms/step - loss: 0.0227 - accuracy: 0.9925\n",
      "Epoch 9/10\n",
      "221/221 [==============================] - 173s 783ms/step - loss: 0.0190 - accuracy: 0.9931\n",
      "Epoch 10/10\n",
      "221/221 [==============================] - 183s 827ms/step - loss: 0.0182 - accuracy: 0.9938\n"
     ]
    },
    {
     "data": {
      "text/plain": [
       "<keras.callbacks.History at 0x1d581f31700>"
      ]
     },
     "execution_count": 24,
     "metadata": {},
     "output_type": "execute_result"
    }
   ],
   "source": [
    "# Train the model\n",
    "model.fit(train_dataset, epochs=10)"
   ]
  },
  {
   "cell_type": "code",
   "execution_count": 25,
   "id": "518df24d",
   "metadata": {},
   "outputs": [
    {
     "name": "stdout",
     "output_type": "stream",
     "text": [
      "16/16 [==============================] - 7s 395ms/step - loss: 4.1233 - accuracy: 0.5320\n"
     ]
    },
    {
     "data": {
      "text/plain": [
       "[4.123292446136475, 0.5320000052452087]"
      ]
     },
     "execution_count": 25,
     "metadata": {},
     "output_type": "execute_result"
    }
   ],
   "source": [
    "# Evaluate the model\n",
    "model.evaluate(test_dataset)"
   ]
  },
  {
   "cell_type": "code",
   "execution_count": 26,
   "id": "1b0dc56c",
   "metadata": {},
   "outputs": [
    {
     "name": "stderr",
     "output_type": "stream",
     "text": [
      "WARNING:absl:Found untraced functions such as _jit_compiled_convolution_op, _jit_compiled_convolution_op, _jit_compiled_convolution_op, _jit_compiled_convolution_op, _update_step_xla while saving (showing 5 of 5). These functions will not be directly callable after loading.\n"
     ]
    },
    {
     "name": "stdout",
     "output_type": "stream",
     "text": [
      "INFO:tensorflow:Assets written to: .\\assets\n"
     ]
    },
    {
     "name": "stderr",
     "output_type": "stream",
     "text": [
      "INFO:tensorflow:Assets written to: .\\assets\n"
     ]
    }
   ],
   "source": [
    "model.save(\".//saved_model_1\")"
   ]
  }
 ],
 "metadata": {
  "kernelspec": {
   "display_name": "tensorflow",
   "language": "python",
   "name": "tensorflow"
  },
  "language_info": {
   "codemirror_mode": {
    "name": "ipython",
    "version": 3
   },
   "file_extension": ".py",
   "mimetype": "text/x-python",
   "name": "python",
   "nbconvert_exporter": "python",
   "pygments_lexer": "ipython3",
   "version": "3.8.8"
  }
 },
 "nbformat": 4,
 "nbformat_minor": 5
}
